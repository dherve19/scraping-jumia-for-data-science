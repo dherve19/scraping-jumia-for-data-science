{
 "cells": [
  {
   "cell_type": "markdown",
   "metadata": {},
   "source": [
    "# In this notebook we are going to analyse the data scrapped from jumia.cm"
   ]
  },
  {
   "cell_type": "code",
   "execution_count": 1,
   "metadata": {},
   "outputs": [],
   "source": [
    "# importing modules\n",
    "import numpy as np\n",
    "import pandas as pd\n",
    "import re \n",
    "%matplotlib inline\n",
    "import matplotlib.pyplot as plt\n",
    "import time"
   ]
  },
  {
   "cell_type": "code",
   "execution_count": 4,
   "metadata": {},
   "outputs": [
    {
     "name": "stdout",
     "output_type": "stream",
     "text": [
      "<class 'pandas.core.frame.DataFrame'>\n",
      "Index: 910 entries, Rise 31 Dual SIM 8Go HDD - Bleu + 1 Carte SIM et 1 Forfait Internet Offerts to Galaxy S9 Plus - 64Go HDD - 6Go RAM - 6,2\" - Noir - 12 Mois\n",
      "Data columns (total 12 columns):\n",
      "seller                  910 non-null object\n",
      "price                   910 non-null float64\n",
      "number-of-items-sold    863 non-null float64\n",
      "ram                     796 non-null float64\n",
      "rom                     824 non-null float64\n",
      "screen-size             768 non-null float64\n",
      "color                   910 non-null object\n",
      "front-camera            797 non-null float64\n",
      "rear-camera             797 non-null float64\n",
      "number_of_sims          910 non-null int64\n",
      "date                    910 non-null object\n",
      "os                      872 non-null object\n",
      "dtypes: float64(7), int64(1), object(4)\n",
      "memory usage: 92.4+ KB\n",
      "None\n",
      "name\n",
      "Rise 31 Dual SIM 8Go HDD - Bleu + 1 Carte SIM et 1 Forfait Internet Offerts                              1001.0\n",
      "Kodak Ektra - 5\" - 32 Go HDD - 3 Go RAM - Noir                                                           1001.0\n",
      "Spark 2 Dual SIM 16 Go HDD + 1 Go RAM - Rouge - 12 Mois                                                  1001.0\n",
      "Spark 2 Dual SIM  16 Go HDD - Noir - 12 Mois                                                              101.0\n",
      "Rise 53 Dual SIM 8Go HDD - Noir - 12 Mois + Forfait Internet Offert                                      1001.0\n",
      "iPhone 4S - 16Go HDD - Noir - 12 Mois                                                                   10001.0\n",
      "Smart 2 Dual SIM 16 Go HDD - Or - 12 Mois                                                                1001.0\n",
      "Redmi 6A Dual SIM - 16 Go HDD - 2Go RAM - 5,45\" - Or                                                     1001.0\n",
      "Desire 610 - 4,7\" - 8Go HDD - 1Go RAM - Noir                                                              101.0\n",
      "Spark 2 Dual SIM 16 Go HDD + 2 Go RAM - Noir - 12 Mois                                                   1001.0\n",
      "Lenovo K5 Play Dual SIM 32Go HDD 3Go RAM - 13+2MP - Noir + Pochette Offert - 12 Mois de Garantie        10001.0\n",
      "V5 Dual SIM - 8 Go HDD - 1 Go RAM - 5\" - Noir                                                            1001.0\n",
      "Lenovo S5 Dual Sim - 64Go HDD - 4Go RAM - 13+13MP - Noir + Pochette Offert - 12 Mois de Garantie        10001.0\n",
      "OK-LX6 Dual SIM 4Go HDD - 1Go RAM - 12 Mois - Blanc Et Or                                                 101.0\n",
      "Y2 Dual SIM 8Go HDD - Noir - 12 Mois                                                                     1001.0\n",
      "Lenovo K5 Pro Dual SIM 64Go HDD - 4Go RAM - 16+5MP - Noir - 12 Mois                                     10001.0\n",
      "K5 Note Dual SIM 64Go HDD - 4Go RAM - 16+2MP - Or - 12 Mois de Garantie                                 10001.0\n",
      "Galaxy S6 Edge - 32Go HDD - RAM 3Go - 5,7\" - Or - 12 Mois + Pochette + Protège Ecran Offerts              101.0\n",
      "Galaxy S4 - 16Go HDD - 2Go RAM - 5\" - Blanc                                                               101.0\n",
      "Redmi 5 Plus Dual SIM - 64Go HDD - 4Go RAM - 6\" - Or + Pochette Offert - 12 Mois de Garantie            10001.0\n",
      "K320t Dual SIM 16Go - 2Go de RAM - Noir - 12 Mois de Garantie                                           10001.0\n",
      "Lenovo A5 Dual SIM 16Go HDD - 3Go RAM - 13MP - Noir  - 12 Mois                                          10001.0\n",
      "iPhone XS - 256 Go HDD - 4 Go RAM - 5,8'' - Or                                                            101.0\n",
      "OK-Smart18 - Dual SIM - 16Go HDD - 1 Go RAM - 5,5\" - Rouge - 12 Mois                                      101.0\n",
      "S301 Dual SIM 3.5\" - 4Go HDD - 512Mo RAM - Noir  - 12 Mois                                                 99.0\n",
      "Hot 7 Dual SIM - 6,2\" - 16 Go HDD - 1 Go RAM - Noir                                                      1001.0\n",
      "Galaxy J6 Plus  2018 - 32 Go HDD - 3 Go RAM - 6'' - Gris                                                  101.0\n",
      "Galaxy S4 - 16Go HDD - 2Go RAM - 5\" - Noir                                                                101.0\n",
      "iPhone XS Max 256Go HDD - Blanc                                                                           101.0\n",
      "iPhone XS 64Go HDD - Or                                                                                   101.0\n",
      "                                                                                                         ...   \n",
      "Galaxy S6 Edge plus 32Go HDD - Or - Pochette + Protège Ecran Offert                                         NaN\n",
      "iPhone 6 Plus 64Go HDD - Argent - 06 Mois                                                                   NaN\n",
      "iPhone 6S - 64 Go HDD - Blanc Et Gris Argent - 6 Mois                                                       NaN\n",
      "Galaxy S6 Edge Plus Dual SIM - 32Go HDD - Or - 05 Mois + Pochette + Protège Ecran Offert                    NaN\n",
      "Smart 2 Dual SIM 16 Go HDD - 1 Go RAM - Or                                                                  NaN\n",
      "Camon CX Dual SIM 16 Go HDD - Gris -12 Mois                                                                 NaN\n",
      "Galaxy S6 - 32Go HDD - 3Go RAM - 5,1\" - Or - 12 Mois + Pochette + Protège Ecran Offerts                     NaN\n",
      "Note 5 - Dual SIM - 32Go HDD - 3Go RAM - 6\" - Noir - 12 Mois                                                NaN\n",
      "Galaxy S7 Edge - 32Go HDD - 4Go RAM - 5,5\" - Or                                                             NaN\n",
      "Galaxy M20 Dual SIM - 32Go HDD - 3Go RAM - 13+5MP - Bleu - 12 Mois                                          NaN\n",
      "Spark 2 Dual SIM 16 Go HDD - 2 Go RAM - Or Et Noir                                                          NaN\n",
      "P13 Dual SIM 8Go HDD - 512 Mo RAM - Noir - 13 Mois                                                          NaN\n",
      "S13 - 8Go HDD - 1GB RAM - Noir - 13 Mois                                                                    NaN\n",
      "Galaxy S6 Edge 32 Go HDD - Or                                                                               NaN\n",
      "Redmi Note 6 Pro Dual SIM 64Go HDD - 4Go RAM - 12+5MP - Noir + Pochette Offert - 12 Mois de Garantie        NaN\n",
      "C Note 2 Dual SIM 64Go HDD - 4Go RAM - 13MP - Bleu - 12 Mois                                                NaN\n",
      "Hot 6X - Dual SIM - 32Go HDD - 3Go RAM - 6,2\" - Bleu                                                        NaN\n",
      "K8 Note - Dual Sim - 64 Go HDD - 4 Go RAM - 5,5'' - Noir                                                    NaN\n",
      "Hot 6X Dual SIM 16Go HDD - Noir                                                                             NaN\n",
      "Y5 Prime 2018 Dual SIM 16Go HDD - Bleu - 12 Mois + Edmark Café73 Offert (20 Sachets)                        NaN\n",
      "Ivory Dual SIM 8 Go HDD - 1Go RAM - Noir - 12 Mois                                                          NaN\n",
      "Pop 2 - Dual SIM - 5,5\" - 8Go HDD - 1Go RAM - Bleu                                                          NaN\n",
      "Spark 3 Dual SIM - 16Go HDD - 1Go RAM - Noir - 12 Mois                                                      NaN\n",
      "Galaxy A10 Dual SIM - 32Go HDD - 2Go RAM - Noir                                                             NaN\n",
      "MI 8 Lite - Dual SIM - 128 Go HDD - RAM 6 Go - 6,26'' - Bleu + Pochette + Protège Ecran Offerts             NaN\n",
      "Galaxy Note 8 - 64 Go HDD - 6 Go RAM - 6,3'' - Noir-glace+pochette                                          NaN\n",
      "Galaxy S7 Edge 64Go HDD - 4Go RAM - Or - Pochette + Protège Écran Offerts                                   NaN\n",
      "Galaxy S7 - 32 Go HDD - 4 Go RAM - 5,1'' - Or + Ecran de Protection et Pochette                             NaN\n",
      "Chargeur Pour Samsung Galaxy - Noir                                                                         NaN\n",
      "Galaxy S9 Plus - 64Go HDD - 6Go RAM - 6,2\" - Noir - 12 Mois                                                 NaN\n",
      "Name: number-of-items-sold, Length: 910, dtype: float64\n"
     ]
    }
   ],
   "source": [
    "# loading the scrapped data\n",
    "df = pd.read_csv('./jumia_cm_smartphones_scraped_on_Sun_May_26_21:47:08_2019.csv', index_col=0)\n",
    "print(df.info())\n",
    "print(df['number-of-items-sold'])"
   ]
  },
  {
   "cell_type": "code",
   "execution_count": null,
   "metadata": {},
   "outputs": [],
   "source": []
  }
 ],
 "metadata": {
  "kernelspec": {
   "display_name": "Python 3",
   "language": "python",
   "name": "python3"
  },
  "language_info": {
   "codemirror_mode": {
    "name": "ipython",
    "version": 3
   },
   "file_extension": ".py",
   "mimetype": "text/x-python",
   "name": "python",
   "nbconvert_exporter": "python",
   "pygments_lexer": "ipython3",
   "version": "3.7.1"
  }
 },
 "nbformat": 4,
 "nbformat_minor": 2
}
