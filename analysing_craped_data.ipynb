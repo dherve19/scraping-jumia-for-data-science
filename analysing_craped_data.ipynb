{
 "cells": [
  {
   "cell_type": "markdown",
   "metadata": {},
   "source": [
    "# In this notebook we are going to analyse the data scrapped from jumia.cm"
   ]
  },
  {
   "cell_type": "code",
   "execution_count": 1,
   "metadata": {},
   "outputs": [],
   "source": [
    "# importing modules\n",
    "import numpy as np\n",
    "import pandas as pd\n",
    "import re \n",
    "%matplotlib inline\n",
    "import matplotlib.pyplot as plt\n",
    "import time"
   ]
  },
  {
   "cell_type": "code",
   "execution_count": 2,
   "metadata": {},
   "outputs": [
    {
     "name": "stdout",
     "output_type": "stream",
     "text": [
      "Wed May 22 07:40:28 2019\n",
      "<class 'pandas.core.frame.DataFrame'>\n",
      "Index: 899 entries, Spark Dual SIM - 8Go HDD - 1Go RAM - Noir - 12 Mois De Garantie to V20 4G LTE - 64Go HDD - 4Go RAM - 16MP - Empreinte digitale - Gris - 12 Mois + Pochette + Protège Ecran Offerts\n",
      "Data columns (total 10 columns):\n",
      "seller                  899 non-null object\n",
      "price                   899 non-null float64\n",
      "number-of-items-sold    853 non-null float64\n",
      "ram                     786 non-null float64\n",
      "rom                     816 non-null float64\n",
      "screen-size             769 non-null float64\n",
      "color                   897 non-null object\n",
      "front-camera            604 non-null float64\n",
      "rear-camera             604 non-null float64\n",
      "number_of_sims          899 non-null int64\n",
      "dtypes: float64(7), int64(1), object(2)\n",
      "memory usage: 77.3+ KB\n",
      "None\n",
      "name\n",
      "Spark Dual SIM - 8Go HDD - 1Go RAM - Noir - 12 Mois De Garantie                                                       99.0\n",
      "iPhone 4S - 16Go HDD - Noir - 12 Mois                                                                              10001.0\n",
      "Hot 7 Dual Sim - 6,2\" - 16 Go HDD - 1 Go RAM - Or                                                                   1001.0\n",
      "Rise 31 Dual SIM 8Go HDD - Bleu + 1 Carte SIM et 1 Forfait Internet Offerts                                         1001.0\n",
      "Hot 7 Dual SIM - 6,2\" - 16 Go HDD - 1 Go RAM - Noir                                                                 1001.0\n",
      "Spark 2 Dual SIM  16 Go HDD + 1Go RAM - Rouge - 12 Mois                                                             1001.0\n",
      "S503 Dual SIM - 16Go HDD - 2Go RAM - 5,5\" - Noir - 12 Mois                                                          1001.0\n",
      "Redmi Go - Dual SIM - 8Go HDD - 1Go RAM - 5\" - Noir                                                                 1001.0\n",
      "Smart 2 Dual SIM 16 Go HDD - Or - 12 Mois                                                                           1001.0\n",
      "Spark 2 Dual SIM 16 Go HDD + 2 Go RAM - Noir - 12 Mois                                                              1001.0\n",
      "Redmi 6A Dual SIM - 16 Go HDD - 2Go RAM - 5,45\" - Or                                                                1001.0\n",
      "Camon 11 Dual SIM - 32 Go HDD - Noir - 12 Mois                                                                      1001.0\n",
      "Rise 53 Dual SIM 8Go HDD - Noir - 12 Mois + Forfait Internet Offert                                                 1001.0\n",
      "Desire 610 - 8Go HDD - 1Go RAM - Noir                                                                                101.0\n",
      "V5 Dual SIM - 8 Go HDD - 1 Go RAM - 5\" - Noir                                                                       1001.0\n",
      "Lenovo K5 Play Dual SIM 32Go HDD 3Go RAM - 13+2MP - Noir + Pochette Offert - 12 Mois de Garantie                   10001.0\n",
      "Lenovo A5 Dual SIM 16Go HDD - 3Go RAM - 13MP - Noir  - 12 Mois                                                     10001.0\n",
      "OK-LX6 Dual SIM 4Go HDD - 1Go RAM - 12 Mois - Blanc Et Or                                                            101.0\n",
      "iPhone XS - 256 Go HDD - 4 Go RAM - 5,8'' - Or                                                                       101.0\n",
      "K5 Note Dual SIM 64Go HDD - 4Go RAM - 16+2MP - Noir - 12 Mois de Garantie                                          10001.0\n",
      "OK-Smart18 - Dual SIM - 16Go HDD - 1 Go RAM - 5,5\" - Rouge - 12 Mois                                                 101.0\n",
      "Lenovo S5 Dual Sim - 64Go HDD - 4Go RAM - 13+13MP - Noir + Pochette Offert - 12 Mois de Garantie                   10001.0\n",
      "S301 Dual SIM 3.5\" - 4Go HDD - 512Mo RAM - Noir  - 12 Mois                                                            99.0\n",
      "Galaxy J6 Plus  2018 - 32 Go HDD - 3 Go RAM - 6'' - Gris                                                             101.0\n",
      "Galaxy S4 - 16Go HDD - 2Go RAM - 5\" - Blanc                                                                          101.0\n",
      "Galaxy S6 Edge - 32Go HDD - RAM 3Go - 5,7\" - Or - 12 Mois + Pochette + Protège Ecran Offerts                         101.0\n",
      "Galaxy S4 - 16Go HDD - 2Go RAM - 5\" - Noir                                                                           101.0\n",
      "iPhone XS Max 256Go HDD - Blanc                                                                                      101.0\n",
      "iPhone XS 64Go HDD - Or                                                                                              101.0\n",
      "Galaxy S10 Plus - 128Go HDD - 8Go RAM - 16+12+12MP - Noir - 24 Mois de Garantie                                    10001.0\n",
      "                                                                                                                    ...   \n",
      "Galaxy A3 Edition 2017 Dual SIM 16Go HDD - Noir - 6 Mois                                                               NaN\n",
      "Galaxy A3 Edition 2017 Dual SIM 16Go HDD - Or - 6 Mois                                                                 NaN\n",
      "Galaxy J8 64Go HDD - Or + Edmark Red Bubble Tea Offert (20 Sachets)                                                    NaN\n",
      "Galaxy A5 Edition 2017 32Go HDD - Bleu                                                                                 NaN\n",
      "Galaxy J7 Max - Dual SIM - 32Go HDD - 4Go RAM - 5,7'' - Noir                                                           NaN\n",
      "One M8 32Go HDD - Gris                                                                                                 NaN\n",
      "Nova 2 Plus 64Go HDD - 4Go Ram - Or + Edmark Shake Off Offert (12 sachets)                                             NaN\n",
      "Mate 10 Lite 64Go HDD - 4Go Ram - Noir - 12 Mois + Edmark Shake Off Offert (12 Sachets)                                NaN\n",
      "Galaxy J8 (2018) - Dual SIM - 64 Go HDD - 4 Go RAM - 6'' + Pochette - Noir                                             NaN\n",
      "Galaxy J8 (2018) - Dual SIM - 64 Go HDD - 4 Go RAM - 6'' - Or + Pochette                                               NaN\n",
      "Galaxy J7 Max - Dual SIM - 32Go HDD - 4Go RAM - 5,7\" + Pochette - Noir                                                 NaN\n",
      "Galaxy J7 Max - Dual SIM - 32Go HDD - 4Go RAM - 5,7\" + Pochette - Or                                                   NaN\n",
      "Galaxy J8 (2018) - 64Go HDD - Noir + Pochette                                                                          NaN\n",
      "Galaxy J8 (2018) - Dual SIM - 64 Go HDD - 4 Go RAM - 6'' - Or + Pochette                                               NaN\n",
      "Nokia 8 Dual SIM 64Go HDD - Bleu + Pochette + Ecran de protection                                                      NaN\n",
      "Galaxy J8 Dual SIM 32Go HDD - Bleu                                                                                     NaN\n",
      "Nova 3E - 64Go HDD - 4Go Ram - Bleu + Edmark Shake Off Offert (12 Sachets)                                             NaN\n",
      "Galaxy A6 Edition 2018 32Go HDD - Or                                                                                   NaN\n",
      "Redmi Note 5 - Dual SIM - 64Go HDD - 4Go RAM - 5,99\" - Or                                                              NaN\n",
      "Nova 3I 128Go HDD - Bleu                                                                                               NaN\n",
      "Galaxy A7 Dual SIM 16 Go HDD - Noir - 24 Mois                                                                          NaN\n",
      "Galaxy S8 DUOS 64Go HDD - Gris - 12 Mois                                                                               NaN\n",
      "Galaxy Note 8 Duos 64Go HDD - Noir 24Mois                                                                              NaN\n",
      "Galaxy S9 Plus 64Go HDD - Rose - 24 Mois                                                                               NaN\n",
      "iPhone 8 Plus 256Go HDD - Noir                                                                                         NaN\n",
      "iPhone XS Max - 64 Go HDD - 4 GB RAM - 6,5\" - Noir                                                                     NaN\n",
      "iPhone 6s Plus 64Go - 2Go RAM - 12MP - Or                                                                              NaN\n",
      "iPhone 7 Plus 128Go HDD - Noir                                                                                         NaN\n",
      "NX Dual SIM 16Go HDD - Bleu - 12 Mois + Forfait Internet Offert                                                        NaN\n",
      "V20 4G LTE - 64Go HDD - 4Go RAM - 16MP - Empreinte digitale - Gris - 12 Mois + Pochette + Protège Ecran Offerts        NaN\n",
      "Name: number-of-items-sold, Length: 899, dtype: float64\n"
     ]
    }
   ],
   "source": [
    "# loading the scrapped data\n",
    "df = pd.read_csv('./dataframe.csv', index_col=0)\n",
    "#we have a column called  Unnamed so it will be good to drop it before continuing\n",
    "#df.drop(['unnamed'], axis='columns')\n",
    "print(time.asctime( time.localtime(time.time()) ))\n",
    "print(df.info())\n",
    "print(df['number-of-items-sold'])"
   ]
  },
  {
   "cell_type": "code",
   "execution_count": null,
   "metadata": {},
   "outputs": [],
   "source": []
  }
 ],
 "metadata": {
  "kernelspec": {
   "display_name": "Python 3",
   "language": "python",
   "name": "python3"
  },
  "language_info": {
   "codemirror_mode": {
    "name": "ipython",
    "version": 3
   },
   "file_extension": ".py",
   "mimetype": "text/x-python",
   "name": "python",
   "nbconvert_exporter": "python",
   "pygments_lexer": "ipython3",
   "version": "3.7.1"
  }
 },
 "nbformat": 4,
 "nbformat_minor": 2
}
